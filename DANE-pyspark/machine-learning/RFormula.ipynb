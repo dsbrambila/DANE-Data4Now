{
 "cells": [
  {
   "cell_type": "code",
   "execution_count": 151,
   "id": "adolescent-output",
   "metadata": {},
   "outputs": [
    {
     "name": "stdout",
     "output_type": "stream",
     "text": [
      "+-----+----+------+------------------+\n",
      "|color| lab|value1|            value2|\n",
      "+-----+----+------+------------------+\n",
      "|green|good|     1|14.386294994851129|\n",
      "|green| bad|    16|14.386294994851129|\n",
      "| blue| bad|     8|14.386294994851129|\n",
      "| blue| bad|     8|14.386294994851129|\n",
      "| blue| bad|    12|14.386294994851129|\n",
      "|green| bad|    16|14.386294994851129|\n",
      "|green|good|    12|14.386294994851129|\n",
      "|  red|good|    35|14.386294994851129|\n",
      "|  red|good|    35|14.386294994851129|\n",
      "|  red| bad|     2|14.386294994851129|\n",
      "|  red| bad|    16|14.386294994851129|\n",
      "|  red| bad|    16|14.386294994851129|\n",
      "| blue| bad|     8|14.386294994851129|\n",
      "|green|good|     1|14.386294994851129|\n",
      "|green|good|    12|14.386294994851129|\n",
      "| blue| bad|     8|14.386294994851129|\n",
      "|  red|good|    35|14.386294994851129|\n",
      "| blue| bad|    12|14.386294994851129|\n",
      "|  red| bad|    16|14.386294994851129|\n",
      "|green|good|    12|14.386294994851129|\n",
      "+-----+----+------+------------------+\n",
      "only showing top 20 rows\n",
      "\n"
     ]
    }
   ],
   "source": [
    "df = spark.read.json(\"data/simple-ml\")\n",
    "df.orderBy(\"value2\").show()"
   ]
  },
  {
   "cell_type": "code",
   "execution_count": 152,
   "id": "heard-hampton",
   "metadata": {},
   "outputs": [],
   "source": [
    "from pyspark.ml.feature import RFormula\n",
    "supervised = RFormula(formula = \"lab ~. + color:value1 + color:value2\")\n",
    "fittedRF = supervised.fit(df)"
   ]
  },
  {
   "cell_type": "code",
   "execution_count": 153,
   "id": "international-touch",
   "metadata": {},
   "outputs": [
    {
     "data": {
      "text/plain": [
       "RFormulaModel: uid=RFormula_171df6d3f801, resolvedFormula=ResolvedRFormula(label=lab, terms=[color,value1,value2,{color,value1},{color,value2}], hasIntercept=true)"
      ]
     },
     "execution_count": 153,
     "metadata": {},
     "output_type": "execute_result"
    }
   ],
   "source": [
    "fittedRF"
   ]
  },
  {
   "cell_type": "code",
   "execution_count": 154,
   "id": "sound-technician",
   "metadata": {},
   "outputs": [
    {
     "name": "stdout",
     "output_type": "stream",
     "text": [
      "+-----+----+------+------------------+--------------------+-----+\n",
      "|color| lab|value1|            value2|            features|label|\n",
      "+-----+----+------+------------------+--------------------+-----+\n",
      "|green|good|     1|14.386294994851129|(10,[1,2,3,5,8],[...|  1.0|\n",
      "| blue| bad|     8|14.386294994851129|(10,[2,3,6,9],[8....|  0.0|\n",
      "| blue| bad|    12|14.386294994851129|(10,[2,3,6,9],[12...|  0.0|\n",
      "|green|good|    15| 38.97187133755819|(10,[1,2,3,5,8],[...|  1.0|\n",
      "|green|good|    12|14.386294994851129|(10,[1,2,3,5,8],[...|  1.0|\n",
      "|green| bad|    16|14.386294994851129|(10,[1,2,3,5,8],[...|  0.0|\n",
      "|  red|good|    35|14.386294994851129|(10,[0,2,3,4,7],[...|  1.0|\n",
      "|  red| bad|     1| 38.97187133755819|(10,[0,2,3,4,7],[...|  0.0|\n",
      "|  red| bad|     2|14.386294994851129|(10,[0,2,3,4,7],[...|  0.0|\n",
      "|  red| bad|    16|14.386294994851129|(10,[0,2,3,4,7],[...|  0.0|\n",
      "|  red|good|    45| 38.97187133755819|(10,[0,2,3,4,7],[...|  1.0|\n",
      "|green|good|     1|14.386294994851129|(10,[1,2,3,5,8],[...|  1.0|\n",
      "| blue| bad|     8|14.386294994851129|(10,[2,3,6,9],[8....|  0.0|\n",
      "| blue| bad|    12|14.386294994851129|(10,[2,3,6,9],[12...|  0.0|\n",
      "|green|good|    15| 38.97187133755819|(10,[1,2,3,5,8],[...|  1.0|\n",
      "|green|good|    12|14.386294994851129|(10,[1,2,3,5,8],[...|  1.0|\n",
      "|green| bad|    16|14.386294994851129|(10,[1,2,3,5,8],[...|  0.0|\n",
      "|  red|good|    35|14.386294994851129|(10,[0,2,3,4,7],[...|  1.0|\n",
      "|  red| bad|     1| 38.97187133755819|(10,[0,2,3,4,7],[...|  0.0|\n",
      "|  red| bad|     2|14.386294994851129|(10,[0,2,3,4,7],[...|  0.0|\n",
      "+-----+----+------+------------------+--------------------+-----+\n",
      "only showing top 20 rows\n",
      "\n"
     ]
    }
   ],
   "source": [
    "prepared_df = fittedRF.transform(df)\n",
    "prepared_df.show()"
   ]
  },
  {
   "cell_type": "code",
   "execution_count": 160,
   "id": "metallic-burner",
   "metadata": {},
   "outputs": [],
   "source": [
    "train, test = prepared_df.randomSplit([0.2,0.8])"
   ]
  },
  {
   "cell_type": "code",
   "execution_count": null,
   "id": "continuing-scottish",
   "metadata": {},
   "outputs": [],
   "source": []
  },
  {
   "cell_type": "code",
   "execution_count": 161,
   "id": "decent-orientation",
   "metadata": {},
   "outputs": [],
   "source": [
    "from pyspark.ml.classification import LogisticRegression\n",
    "lr = LogisticRegression(labelCol=\"label\", featuresCol = \"features\")"
   ]
  },
  {
   "cell_type": "code",
   "execution_count": 162,
   "id": "pretty-radiation",
   "metadata": {},
   "outputs": [],
   "source": [
    "fitted_lr = lr.fit(train)"
   ]
  },
  {
   "cell_type": "code",
   "execution_count": 163,
   "id": "authorized-fighter",
   "metadata": {},
   "outputs": [],
   "source": [
    "from pyspark.ml.evaluation import BinaryClassificationEvaluator\n",
    "evaluator = BinaryClassificationEvaluator()\\\n",
    "    .setMetricName(\"areaUnderROC\")\\\n",
    "    .setRawPredictionCol(\"prediction\")\\\n",
    "    .setLabelCol(\"label\")\n"
   ]
  },
  {
   "cell_type": "code",
   "execution_count": 164,
   "id": "driving-access",
   "metadata": {},
   "outputs": [
    {
     "data": {
      "text/plain": [
       "1.0"
      ]
     },
     "execution_count": 164,
     "metadata": {},
     "output_type": "execute_result"
    }
   ],
   "source": [
    "evaluator.evaluate(fitted_lr.transform(test))"
   ]
  },
  {
   "cell_type": "markdown",
   "id": "sacred-involvement",
   "metadata": {},
   "source": [
    "**Spark Pipeline**"
   ]
  },
  {
   "cell_type": "code",
   "execution_count": 165,
   "id": "recreational-laser",
   "metadata": {},
   "outputs": [],
   "source": [
    "#methods\n",
    "rForm = RFormula()\n",
    "lr = LogisticRegression().setLabelCol(\"label\").setFeaturesCol(\"features\")"
   ]
  },
  {
   "cell_type": "code",
   "execution_count": 166,
   "id": "jewish-desperate",
   "metadata": {},
   "outputs": [],
   "source": [
    "from pyspark.ml import Pipeline\n",
    "stages = [rForm, lr]\n",
    "pipeline = Pipeline().setStages(stages)"
   ]
  },
  {
   "cell_type": "code",
   "execution_count": 170,
   "id": "sophisticated-giving",
   "metadata": {},
   "outputs": [],
   "source": [
    "from pyspark.ml.tuning import ParamGridBuilder\n",
    "params = ParamGridBuilder()\\\n",
    "            .addGrid(rForm.formula,[\n",
    "                \"lab~.+color:value1\",\n",
    "                \"lab~.+color:value1 + color:value2\"])\\\n",
    "            .addGrid(lr.elasticNetParam, [0.0, 0.5, 1.0])\\\n",
    "            .addGrid(lr.regParam, [0.1,2.0])\\\n",
    "            .build()"
   ]
  },
  {
   "cell_type": "code",
   "execution_count": 171,
   "id": "combined-essay",
   "metadata": {},
   "outputs": [],
   "source": [
    "from pyspark.ml.evaluation import BinaryClassificationEvaluator\n",
    "evaluator = BinaryClassificationEvaluator()\\\n",
    "    .setMetricName(\"areaUnderROC\")\\\n",
    "    .setRawPredictionCol(\"prediction\")\\\n",
    "    .setLabelCol(\"label\")"
   ]
  },
  {
   "cell_type": "code",
   "execution_count": 172,
   "id": "considerable-special",
   "metadata": {},
   "outputs": [],
   "source": [
    "from pyspark.ml.tuning import TrainValidationSplit\n",
    "train, test = df.randomSplit([0.7, 0.3])\n",
    "tvs = TrainValidationSplit()\\\n",
    "        .setTrainRatio(0.75)\\\n",
    "        .setEstimatorParamMaps(params)\\\n",
    "        .setEstimator(pipeline)\\\n",
    "        .setEvaluator(evaluator)\n",
    "tvs_fitted = tvs.fit(train)"
   ]
  },
  {
   "cell_type": "code",
   "execution_count": 173,
   "id": "separate-diameter",
   "metadata": {},
   "outputs": [
    {
     "data": {
      "text/plain": [
       "0.9210526315789473"
      ]
     },
     "execution_count": 173,
     "metadata": {},
     "output_type": "execute_result"
    }
   ],
   "source": [
    "evaluator.evaluate(tvs_fitted.transform(test)) "
   ]
  },
  {
   "cell_type": "code",
   "execution_count": 150,
   "id": "appointed-hazard",
   "metadata": {},
   "outputs": [
    {
     "data": {
      "text/plain": [
       "[0.6927819059876473,\n",
       " 0.6858019208354478,\n",
       " 0.6429501066450108,\n",
       " 0.6256794931772237,\n",
       " 0.6151941181084452,\n",
       " 0.6104129579953256,\n",
       " 0.6053693651795746,\n",
       " 0.5990637704815193,\n",
       " 0.5946606861915436,\n",
       " 0.5927849584988801,\n",
       " 0.589377571005326,\n",
       " 0.5888121739708371,\n",
       " 0.5883054484661103,\n",
       " 0.5881302495270053,\n",
       " 0.5879840721225077,\n",
       " 0.5879554489019854,\n",
       " 0.587938349074488,\n",
       " 0.5879244671322672,\n",
       " 0.5879151435829033,\n",
       " 0.587906773490357,\n",
       " 0.5879027628326016,\n",
       " 0.5879005468767974,\n",
       " 0.5878973198729107,\n",
       " 0.5878869548157649,\n",
       " 0.5878379009881225,\n",
       " 0.5878280828975404,\n",
       " 0.5878064517553149,\n",
       " 0.5878021130716453,\n",
       " 0.587795929363375,\n",
       " 0.5877945559300486,\n",
       " 0.5877869802692381,\n",
       " 0.5877861054209362,\n",
       " 0.5877783102711365,\n",
       " 0.5877777141776835,\n",
       " 0.5877694424078204,\n",
       " 0.5877668509369062,\n",
       " 0.5877646665437557,\n",
       " 0.5877487548668824,\n",
       " 0.5877444512117623,\n",
       " 0.5877375709055844,\n",
       " 0.5877334766258682,\n",
       " 0.5877316790097143,\n",
       " 0.5877279106585566,\n",
       " 0.5877255199223633,\n",
       " 0.5877245415887306,\n",
       " 0.5877219976327248,\n",
       " 0.5877200836853761,\n",
       " 0.5877179257258986,\n",
       " 0.5877163530182661,\n",
       " 0.587714092137668,\n",
       " 0.5877134568027831,\n",
       " 0.5877110856723281,\n",
       " 0.5877105636009363,\n",
       " 0.5877090099227474,\n",
       " 0.5877078773970694,\n",
       " 0.587705137856725,\n",
       " 0.5877012180264864,\n",
       " 0.5877000823400771,\n",
       " 0.5876992312923182,\n",
       " 0.5876990058956252,\n",
       " 0.5876989514799451,\n",
       " 0.5876987090572562,\n",
       " 0.5876982930329429,\n",
       " 0.5876981630784256,\n",
       " 0.5876981051561448,\n",
       " 0.5876979356992409,\n",
       " 0.5876978946831287,\n",
       " 0.5876978367315376,\n",
       " 0.5876978080775571,\n",
       " 0.5876978036239469,\n",
       " 0.5876977951831194,\n",
       " 0.5876977896319274,\n",
       " 0.5876977856177753,\n",
       " 0.5876977815938547,\n",
       " 0.5876977801910982,\n",
       " 0.587697778304538,\n",
       " 0.587697776015721,\n",
       " 0.5876977752285774,\n",
       " 0.5876977738053778,\n",
       " 0.587697773437198,\n",
       " 0.5876977733537778,\n",
       " 0.5876977732828856,\n",
       " 0.5876977732789502,\n",
       " 0.5876977732774931,\n",
       " 0.5876977732756388,\n",
       " 0.5876977732738523,\n",
       " 0.5876977732553876,\n",
       " 0.5876977732474017,\n",
       " 0.5876977732451752,\n",
       " 0.5876977732419605,\n",
       " 0.5876977732398779,\n",
       " 0.5876977732367692,\n",
       " 0.587697773234285,\n",
       " 0.58769777323187,\n",
       " 0.5876977732293925,\n",
       " 0.587697773227143,\n",
       " 0.5876977732248998,\n",
       " 0.5876977732212744,\n",
       " 0.5876977732192727,\n",
       " 0.5876977732164703,\n",
       " 0.5876977732145553]"
      ]
     },
     "execution_count": 150,
     "metadata": {},
     "output_type": "execute_result"
    }
   ],
   "source": [
    "trained_pipeline = tvs_fitted.bestModel\n",
    "trained_lr = trained_pipeline.stages[1]\n",
    "trained_lr.summary.objectiveHistory"
   ]
  }
 ],
 "metadata": {
  "kernelspec": {
   "display_name": "Python 3",
   "language": "python",
   "name": "python3"
  },
  "language_info": {
   "codemirror_mode": {
    "name": "ipython",
    "version": 3
   },
   "file_extension": ".py",
   "mimetype": "text/x-python",
   "name": "python",
   "nbconvert_exporter": "python",
   "pygments_lexer": "ipython3",
   "version": "3.9.2"
  }
 },
 "nbformat": 4,
 "nbformat_minor": 5
}
