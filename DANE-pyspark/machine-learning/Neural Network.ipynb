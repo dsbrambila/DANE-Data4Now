{
 "cells": [
  {
   "cell_type": "code",
   "execution_count": 152,
   "id": "reliable-finger",
   "metadata": {},
   "outputs": [
    {
     "name": "stdout",
     "output_type": "stream",
     "text": [
      "Test set accuracy = 0.9682539682539683\n"
     ]
    }
   ],
   "source": [
    "from pyspark.ml.classification import MultilayerPerceptronClassifier\n",
    "from pyspark.ml.evaluation import MulticlassClassificationEvaluator\n",
    "\n",
    "# Load training data\n",
    "data = spark.read.format(\"libsvm\")\\\n",
    "    .load(\"data/sample_multiclass_classification_data.txt\")\n",
    "\n",
    "# Split the data into train and test\n",
    "splits = data.randomSplit([0.6, 0.4], 1234)\n",
    "train = splits[0]\n",
    "test = splits[1]\n",
    "\n",
    "# specify layers for the neural network:\n",
    "# input layer of size 4 (features), two intermediate of size 5 and 4\n",
    "# and output of size 3 (classes)\n",
    "layers = [4, 3, 2, 3]\n",
    "\n",
    "# create the trainer and set its parameters\n",
    "trainer = MultilayerPerceptronClassifier(maxIter=100, layers=layers, blockSize=128, seed=1234)\n",
    "\n",
    "# train the model\n",
    "model = trainer.fit(train)\n",
    "\n",
    "# compute accuracy on the test set\n",
    "result = model.transform(test)\n",
    "predictionAndLabels = result.select(\"prediction\", \"label\")\n",
    "evaluator = MulticlassClassificationEvaluator(metricName=\"accuracy\")\n",
    "print(\"Test set accuracy = \" + str(evaluator.evaluate(predictionAndLabels)))"
   ]
  },
  {
   "cell_type": "code",
   "execution_count": 153,
   "id": "scenic-senate",
   "metadata": {},
   "outputs": [
    {
     "name": "stdout",
     "output_type": "stream",
     "text": [
      "+-----+--------------------+\n",
      "|label|            features|\n",
      "+-----+--------------------+\n",
      "|  1.0|(4,[0,1,2,3],[-0....|\n",
      "|  1.0|(4,[0,1,2,3],[-0....|\n",
      "|  1.0|(4,[0,1,2,3],[-0....|\n",
      "|  1.0|(4,[0,1,2,3],[-0....|\n",
      "|  0.0|(4,[0,1,2,3],[0.1...|\n",
      "|  1.0|(4,[0,2,3],[-0.83...|\n",
      "|  2.0|(4,[0,1,2,3],[-1....|\n",
      "|  2.0|(4,[0,1,2,3],[-1....|\n",
      "|  1.0|(4,[0,1,2,3],[-0....|\n",
      "|  0.0|(4,[0,2,3],[0.611...|\n",
      "|  0.0|(4,[0,1,2,3],[0.2...|\n",
      "|  1.0|(4,[0,1,2,3],[-0....|\n",
      "|  1.0|(4,[0,1,2,3],[-0....|\n",
      "|  2.0|(4,[0,1,2,3],[-0....|\n",
      "|  2.0|(4,[0,1,2,3],[-0....|\n",
      "|  2.0|(4,[0,1,2,3],[-0....|\n",
      "|  1.0|(4,[0,2,3],[-0.94...|\n",
      "|  2.0|(4,[0,1,2,3],[-0....|\n",
      "|  0.0|(4,[0,1,2,3],[0.1...|\n",
      "|  2.0|(4,[0,1,2,3],[-0....|\n",
      "|  0.0|(4,[0,1,2,3],[0.1...|\n",
      "|  1.0|(4,[0,1,2,3],[-0....|\n",
      "|  2.0|(4,[0,1,2,3],[-0....|\n",
      "|  0.0|(4,[0,1,2,3],[0.5...|\n",
      "|  2.0|(4,[0,2,3],[0.166...|\n",
      "|  2.0|(4,[0,1,2,3],[0.1...|\n",
      "|  2.0|(4,[0,1,2,3],[0.1...|\n",
      "|  0.0|(4,[0,1,2,3],[-0....|\n",
      "|  0.0|(4,[0,1,2,3],[-0....|\n",
      "|  2.0|(4,[0,1,2,3],[-0....|\n",
      "|  2.0|(4,[0,2,3],[-0.11...|\n",
      "|  2.0|(4,[0,1,2,3],[-0....|\n",
      "|  2.0|(4,[0,1,2,3],[0.3...|\n",
      "|  1.0|(4,[0,1,2,3],[-0....|\n",
      "|  0.0|(4,[0,1,2,3],[0.1...|\n",
      "|  0.0|(4,[0,1,2,3],[0.1...|\n",
      "|  0.0|(4,[0,1,2,3],[0.8...|\n",
      "|  2.0|(4,[0,1,2,3],[-0....|\n",
      "|  0.0|(4,[0,1,2,3],[-0....|\n",
      "|  1.0|(4,[0,1,2,3],[-0....|\n",
      "|  1.0|(4,[0,1,2,3],[-0....|\n",
      "|  0.0|(4,[0,1,2,3],[0.0...|\n",
      "|  1.0|(4,[0,1,2,3],[-0....|\n",
      "|  1.0|(4,[0,1,2,3],[-0....|\n",
      "|  0.0|(4,[0,1,2,3],[0.0...|\n",
      "|  0.0|(4,[0,1,2,3],[0.7...|\n",
      "|  2.0|(4,[0,1,2,3],[-0....|\n",
      "|  2.0|(4,[0,2,3],[0.5,0...|\n",
      "|  0.0|(4,[0,1,2,3],[0.1...|\n",
      "|  1.0|(4,[0,1,2,3],[-0....|\n",
      "|  2.0|(4,[0,1,2,3],[0.2...|\n",
      "|  0.0|(4,[0,1,2,3],[0.6...|\n",
      "|  0.0|(4,[0,1,2,3],[0.1...|\n",
      "|  0.0|(4,[0,2,3],[0.444...|\n",
      "|  2.0|(4,[0,1,2,3],[-0....|\n",
      "|  1.0|(4,[0,1,2,3],[-0....|\n",
      "|  1.0|(4,[0,1,2,3],[-0....|\n",
      "|  2.0|(4,[0,1,2,3],[-0....|\n",
      "|  1.0|(4,[0,1,2,3],[-1....|\n",
      "|  1.0|(4,[0,1,2,3],[-0....|\n",
      "|  2.0|(4,[0,1,2,3],[0.3...|\n",
      "|  2.0|(4,[0,1,2,3],[0.2...|\n",
      "|  0.0|(4,[0,1,2,3],[0.3...|\n",
      "|  1.0|(4,[0,2,3],[-0.77...|\n",
      "|  1.0|(4,[0,1,2,3],[-0....|\n",
      "|  0.0|(4,[0,1,2,3],[0.2...|\n",
      "|  1.0|(4,[0,1,2,3],[-0....|\n",
      "|  1.0|(4,[0,1,2,3],[-0....|\n",
      "|  2.0|(4,[0,1,2,3],[-1....|\n",
      "|  1.0|(4,[0,1,2,3],[-0....|\n",
      "|  0.0|(4,[0,2,3],[0.166...|\n",
      "|  2.0|(4,[0,1,2,3],[0.4...|\n",
      "|  0.0|(4,[0,1,2,3],[0.1...|\n",
      "|  1.0|(4,[0,1,2,3],[-0....|\n",
      "|  0.0|(4,[0,2,3],[0.388...|\n",
      "|  1.0|(4,[0,1,2,3],[-0....|\n",
      "|  1.0|(4,[0,1,2,3],[-0....|\n",
      "|  1.0|(4,[0,1,2,3],[-0....|\n",
      "|  2.0|(4,[0,1,2,3],[-0....|\n",
      "|  2.0|(4,[0,1,2,3],[-0....|\n",
      "|  2.0|(4,[0,1,2,3],[0.0...|\n",
      "|  0.0|(4,[0,1,2,3],[-0....|\n",
      "|  0.0|(4,[0,1,2,3],[0.6...|\n",
      "|  2.0|(4,[0,1,2,3],[0.0...|\n",
      "|  1.0|(4,[0,1,2,3],[-0....|\n",
      "|  1.0|(4,[0,1,2,3],[-0....|\n",
      "|  0.0|(4,[0,1,2,3],[0.6...|\n",
      "|  0.0|(4,[0,1,2,3],[0.8...|\n",
      "|  2.0|(4,[0,1,2,3],[0.2...|\n",
      "|  1.0|(4,[0,1,2,3],[-0....|\n",
      "|  0.0|(4,[0,1,2,3],[-1....|\n",
      "|  0.0|(4,[0,1,2,3],[-1....|\n",
      "|  1.0|(4,[0,2,3],[-0.61...|\n",
      "|  1.0|(4,[0,1,2,3],[-0....|\n",
      "|  0.0|(4,[0,1,2,3],[-0....|\n",
      "|  2.0|(4,[0,1,2,3],[-0....|\n",
      "|  2.0|(4,[0,1,2,3],[-0....|\n",
      "|  1.0|(4,[0,1,2,3],[-0....|\n",
      "|  0.0|(4,[0,1,2,3],[0.4...|\n",
      "|  1.0|(4,[0,1,2,3],[-0....|\n",
      "|  0.0|(4,[0,1,2,3],[0.1...|\n",
      "|  0.0|(4,[0,1,2,3],[0.1...|\n",
      "|  2.0|(4,[0,1,2,3],[0.3...|\n",
      "|  0.0|(4,[0,1,2,3],[-0....|\n",
      "|  0.0|(4,[0,1,2,3],[-0....|\n",
      "|  1.0|(4,[0,1,2,3],[-0....|\n",
      "|  0.0|(4,[0,1,2,3],[0.8...|\n",
      "|  2.0|(4,[0,1,2,3],[-0....|\n",
      "|  2.0|(4,[0,1,2,3],[-0....|\n",
      "|  0.0|(4,[0,1,2,3],[0.3...|\n",
      "|  0.0|(4,[0,1,2,3],[0.4...|\n",
      "|  2.0|(4,[0,1,2,3],[-0....|\n",
      "|  1.0|(4,[0,1,2,3],[-0....|\n",
      "|  2.0|(4,[0,1,2,3],[-0....|\n",
      "|  0.0|(4,[0,1,2,3],[1.0...|\n",
      "|  2.0|(4,[0,1,2,3],[-0....|\n",
      "|  2.0|(4,[0,1,2,3],[-0....|\n",
      "|  0.0|(4,[0,1,2,3],[0.8...|\n",
      "|  2.0|(4,[0,1,2,3],[-0....|\n",
      "|  2.0|(4,[0,1,2,3],[0.1...|\n",
      "|  0.0|(4,[0,1,2,3],[0.3...|\n",
      "|  0.0|(4,[0,1,2,3],[0.2...|\n",
      "|  1.0|(4,[0,1,2,3],[-0....|\n",
      "|  0.0|(4,[0,1,2,3],[-0....|\n",
      "|  0.0|(4,[0,1,2,3],[0.8...|\n",
      "|  1.0|(4,[0,1,2,3],[-0....|\n",
      "|  2.0|(4,[0,1,2,3],[0.1...|\n",
      "|  0.0|(4,[0,1,2,3],[0.3...|\n",
      "|  1.0|(4,[0,1,2,3],[-0....|\n",
      "|  0.0|(4,[0,1,2,3],[0.3...|\n",
      "|  2.0|(4,[0,1,2,3],[-0....|\n",
      "|  1.0|(4,[0,1,2,3],[-0....|\n",
      "|  1.0|(4,[0,1,2,3],[-0....|\n",
      "|  2.0|(4,[0,1,2,3],[-0....|\n",
      "|  2.0|(4,[0,1,2,3],[-1....|\n",
      "|  2.0|(4,[0,1,2,3],[-0....|\n",
      "|  1.0|(4,[0,1,2,3],[-0....|\n",
      "|  1.0|(4,[0,1,2,3],[-0....|\n",
      "|  2.0|(4,[0,1,2,3],[-0....|\n",
      "|  2.0|(4,[0,1,2,3],[-0....|\n",
      "|  1.0|(4,[0,1,2,3],[-0....|\n",
      "|  1.0|(4,[0,2,3],[-0.77...|\n",
      "|  0.0|(4,[0,1,2,3],[0.3...|\n",
      "|  0.0|(4,[0,2,3],[0.222...|\n",
      "|  2.0|(4,[0,1,2,3],[0.3...|\n",
      "|  2.0|(4,[0,1,2,3],[-0....|\n",
      "|  0.0|(4,[0,1,2,3],[-0....|\n",
      "|  1.0|(4,[0,1,2,3],[-0....|\n",
      "|  1.0|(4,[0,1,2,3],[-0....|\n",
      "|  1.0|(4,[0,1,2,3],[-0....|\n",
      "+-----+--------------------+\n",
      "\n"
     ]
    }
   ],
   "source": [
    "data.show(200)"
   ]
  },
  {
   "cell_type": "code",
   "execution_count": 154,
   "id": "indie-cowboy",
   "metadata": {},
   "outputs": [],
   "source": [
    "import random\n",
    "import numpy as np\n",
    "layers_grid = []\n",
    "for layers in np.arange(1,7):\n",
    "    for i in np.arange(0,10):\n",
    "        lg = [4]\n",
    "        for j in np.arange(0,layers):\n",
    "            lg.append(random.randrange(2, 9))\n",
    "        lg.append(3)    \n",
    "        layers_grid.append(lg)    \n",
    "layers_grid.append([4, 3, 2, 3])"
   ]
  },
  {
   "cell_type": "code",
   "execution_count": 155,
   "id": "looking-blond",
   "metadata": {},
   "outputs": [
    {
     "data": {
      "text/plain": [
       "[[4, 5, 3],\n",
       " [4, 6, 3],\n",
       " [4, 2, 3],\n",
       " [4, 7, 3],\n",
       " [4, 4, 3],\n",
       " [4, 8, 3],\n",
       " [4, 7, 3],\n",
       " [4, 5, 3],\n",
       " [4, 5, 3],\n",
       " [4, 6, 3],\n",
       " [4, 8, 2, 3],\n",
       " [4, 7, 3, 3],\n",
       " [4, 8, 7, 3],\n",
       " [4, 7, 2, 3],\n",
       " [4, 6, 8, 3],\n",
       " [4, 3, 7, 3],\n",
       " [4, 5, 6, 3],\n",
       " [4, 8, 4, 3],\n",
       " [4, 6, 8, 3],\n",
       " [4, 2, 6, 3],\n",
       " [4, 7, 4, 5, 3],\n",
       " [4, 4, 5, 3, 3],\n",
       " [4, 4, 6, 6, 3],\n",
       " [4, 5, 4, 4, 3],\n",
       " [4, 8, 6, 7, 3],\n",
       " [4, 3, 2, 5, 3],\n",
       " [4, 4, 7, 7, 3],\n",
       " [4, 6, 3, 7, 3],\n",
       " [4, 5, 5, 6, 3],\n",
       " [4, 7, 5, 3, 3],\n",
       " [4, 7, 4, 7, 8, 3],\n",
       " [4, 2, 2, 6, 6, 3],\n",
       " [4, 4, 4, 3, 5, 3],\n",
       " [4, 2, 6, 7, 7, 3],\n",
       " [4, 7, 4, 7, 2, 3],\n",
       " [4, 5, 4, 6, 4, 3],\n",
       " [4, 3, 4, 7, 7, 3],\n",
       " [4, 2, 8, 5, 6, 3],\n",
       " [4, 4, 7, 2, 2, 3],\n",
       " [4, 7, 7, 8, 5, 3],\n",
       " [4, 5, 2, 7, 3, 7, 3],\n",
       " [4, 3, 8, 5, 8, 7, 3],\n",
       " [4, 6, 8, 3, 2, 3, 3],\n",
       " [4, 6, 8, 5, 3, 3, 3],\n",
       " [4, 2, 6, 7, 6, 5, 3],\n",
       " [4, 7, 4, 3, 2, 4, 3],\n",
       " [4, 2, 7, 5, 8, 4, 3],\n",
       " [4, 3, 6, 3, 5, 4, 3],\n",
       " [4, 8, 7, 2, 7, 5, 3],\n",
       " [4, 3, 2, 5, 6, 4, 3],\n",
       " [4, 7, 8, 3, 2, 7, 6, 3],\n",
       " [4, 4, 2, 6, 6, 3, 7, 3],\n",
       " [4, 5, 8, 6, 5, 6, 4, 3],\n",
       " [4, 7, 5, 8, 5, 6, 5, 3],\n",
       " [4, 5, 4, 6, 8, 8, 7, 3],\n",
       " [4, 5, 3, 4, 3, 5, 4, 3],\n",
       " [4, 2, 2, 5, 8, 3, 8, 3],\n",
       " [4, 7, 5, 7, 7, 6, 3, 3],\n",
       " [4, 3, 5, 8, 4, 6, 4, 3],\n",
       " [4, 2, 5, 2, 6, 4, 6, 3],\n",
       " [4, 3, 2, 3]]"
      ]
     },
     "execution_count": 155,
     "metadata": {},
     "output_type": "execute_result"
    }
   ],
   "source": [
    "layers_grid"
   ]
  },
  {
   "cell_type": "code",
   "execution_count": 156,
   "id": "other-assets",
   "metadata": {},
   "outputs": [],
   "source": [
    "from pyspark.ml import Pipeline\n",
    "trainer = MultilayerPerceptronClassifier(maxIter=100,  blockSize=128, seed=1234)\n",
    "stages = [trainer]\n",
    "pipeline = Pipeline().setStages(stages)"
   ]
  },
  {
   "cell_type": "code",
   "execution_count": 157,
   "id": "warming-brief",
   "metadata": {},
   "outputs": [],
   "source": [
    "from pyspark.ml.tuning import ParamGridBuilder\n",
    "params = ParamGridBuilder()\\\n",
    "            .addGrid(trainer.layers, layers_grid)\\\n",
    "            .build()"
   ]
  },
  {
   "cell_type": "code",
   "execution_count": 158,
   "id": "suspended-politics",
   "metadata": {},
   "outputs": [],
   "source": [
    "from pyspark.ml.evaluation import BinaryClassificationEvaluator\n",
    "evaluator = BinaryClassificationEvaluator()\\\n",
    "    .setMetricName(\"areaUnderROC\")\\\n",
    "    .setRawPredictionCol(\"prediction\")\\\n",
    "    .setLabelCol(\"label\")"
   ]
  },
  {
   "cell_type": "code",
   "execution_count": 159,
   "id": "gorgeous-grove",
   "metadata": {},
   "outputs": [],
   "source": [
    "from pyspark.ml.tuning import TrainValidationSplit\n",
    "train, test = data.randomSplit([0.7, 0.3])\n",
    "tvs = TrainValidationSplit()\\\n",
    "        .setTrainRatio(0.75)\\\n",
    "        .setEstimatorParamMaps(params)\\\n",
    "        .setEstimator(pipeline)\\\n",
    "        .setEvaluator(evaluator)\n",
    "tvs_fitted = tvs.fit(train)"
   ]
  },
  {
   "cell_type": "code",
   "execution_count": 70,
   "id": "subject-button",
   "metadata": {},
   "outputs": [
    {
     "data": {
      "text/plain": [
       "TrainValidationSplitModel_79ba3ba04e4c"
      ]
     },
     "execution_count": 70,
     "metadata": {},
     "output_type": "execute_result"
    }
   ],
   "source": [
    "tvs_fitted"
   ]
  },
  {
   "cell_type": "code",
   "execution_count": 160,
   "id": "herbal-bridal",
   "metadata": {},
   "outputs": [
    {
     "data": {
      "text/plain": [
       "0.8636363636363636"
      ]
     },
     "execution_count": 160,
     "metadata": {},
     "output_type": "execute_result"
    }
   ],
   "source": [
    "evaluator.evaluate(tvs_fitted.transform(test)) "
   ]
  },
  {
   "cell_type": "code",
   "execution_count": 151,
   "id": "allied-picnic",
   "metadata": {},
   "outputs": [],
   "source": [
    "tvs_fitted.save(\"nnet\")"
   ]
  },
  {
   "cell_type": "code",
   "execution_count": null,
   "id": "centered-baking",
   "metadata": {},
   "outputs": [],
   "source": []
  }
 ],
 "metadata": {
  "kernelspec": {
   "display_name": "Python 3",
   "language": "python",
   "name": "python3"
  },
  "language_info": {
   "codemirror_mode": {
    "name": "ipython",
    "version": 3
   },
   "file_extension": ".py",
   "mimetype": "text/x-python",
   "name": "python",
   "nbconvert_exporter": "python",
   "pygments_lexer": "ipython3",
   "version": "3.9.2"
  }
 },
 "nbformat": 4,
 "nbformat_minor": 5
}
